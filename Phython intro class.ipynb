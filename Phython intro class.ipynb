{
 "cells": [
  {
   "cell_type": "code",
   "execution_count": 226,
   "id": "fb9259cc",
   "metadata": {},
   "outputs": [],
   "source": [
    "X=5\n",
    "#X is an integer"
   ]
  },
  {
   "cell_type": "code",
   "execution_count": 227,
   "id": "1d5153a9",
   "metadata": {},
   "outputs": [],
   "source": [
    "X=9"
   ]
  },
  {
   "cell_type": "code",
   "execution_count": 228,
   "id": "809e5b47",
   "metadata": {},
   "outputs": [
    {
     "data": {
      "text/plain": [
       "9"
      ]
     },
     "execution_count": 228,
     "metadata": {},
     "output_type": "execute_result"
    }
   ],
   "source": [
    "X"
   ]
  },
  {
   "cell_type": "code",
   "execution_count": 229,
   "id": "2fca8680",
   "metadata": {},
   "outputs": [
    {
     "data": {
      "text/plain": [
       "5"
      ]
     },
     "execution_count": 229,
     "metadata": {},
     "output_type": "execute_result"
    }
   ],
   "source": [
    "A=2+3\n",
    "A"
   ]
  },
  {
   "cell_type": "code",
   "execution_count": 230,
   "id": "117f449b",
   "metadata": {},
   "outputs": [
    {
     "data": {
      "text/plain": [
       "48"
      ]
     },
     "execution_count": 230,
     "metadata": {},
     "output_type": "execute_result"
    }
   ],
   "source": [
    "Age =48\n",
    "Age"
   ]
  },
  {
   "cell_type": "code",
   "execution_count": 231,
   "id": "5c3ceafa",
   "metadata": {},
   "outputs": [],
   "source": [
    "Name= 'Jack'"
   ]
  },
  {
   "cell_type": "code",
   "execution_count": 232,
   "id": "e7021148",
   "metadata": {},
   "outputs": [
    {
     "data": {
      "text/plain": [
       "'balqees'"
      ]
     },
     "execution_count": 232,
     "metadata": {},
     "output_type": "execute_result"
    }
   ],
   "source": [
    "Name= \"balqees\"\n",
    "Name"
   ]
  },
  {
   "cell_type": "code",
   "execution_count": 1,
   "id": "1f99f395",
   "metadata": {},
   "outputs": [],
   "source": [
    "Age= 'Eleven'\n"
   ]
  },
  {
   "cell_type": "code",
   "execution_count": 2,
   "id": "6fb8ff17",
   "metadata": {},
   "outputs": [],
   "source": [
    "Age= \"Eleven\""
   ]
  },
  {
   "cell_type": "code",
   "execution_count": null,
   "id": "aa664a65",
   "metadata": {},
   "outputs": [],
   "source": [
    "Age= 'Eleven'\n",
    "Age"
   ]
  },
  {
   "cell_type": "code",
   "execution_count": null,
   "id": "697619fb",
   "metadata": {},
   "outputs": [],
   "source": [
    "Age= (\"My age is 89 years old\")\n",
    "Age"
   ]
  },
  {
   "cell_type": "code",
   "execution_count": null,
   "id": "ea0014af",
   "metadata": {},
   "outputs": [],
   "source": [
    "Name= 'Balqees'"
   ]
  },
  {
   "cell_type": "code",
   "execution_count": null,
   "id": "da46fe1a",
   "metadata": {},
   "outputs": [],
   "source": [
    "print('My name is', Name)"
   ]
  },
  {
   "cell_type": "code",
   "execution_count": null,
   "id": "631ce054",
   "metadata": {},
   "outputs": [],
   "source": [
    "x=2+4\n",
    "x"
   ]
  },
  {
   "cell_type": "code",
   "execution_count": null,
   "id": "4062d151",
   "metadata": {},
   "outputs": [],
   "source": [
    "Age=10"
   ]
  },
  {
   "cell_type": "code",
   "execution_count": null,
   "id": "2aa70252",
   "metadata": {},
   "outputs": [],
   "source": [
    "print('My daughter age is', Age)"
   ]
  },
  {
   "cell_type": "markdown",
   "id": "0c97dba5",
   "metadata": {},
   "source": [
    "a=1\n",
    "b=2.0\n",
    "c=True\n",
    "d='3'\n",
    "f=2j\n",
    "g=('ben',56)\n",
    "h={'name':'ben'}"
   ]
  },
  {
   "cell_type": "code",
   "execution_count": 3,
   "id": "70f24114",
   "metadata": {},
   "outputs": [
    {
     "name": "stdout",
     "output_type": "stream",
     "text": [
      "<class 'int'>\n"
     ]
    }
   ],
   "source": [
    "a=1\n",
    "print(type(a))"
   ]
  },
  {
   "cell_type": "code",
   "execution_count": 4,
   "id": "8a309327",
   "metadata": {},
   "outputs": [
    {
     "name": "stdout",
     "output_type": "stream",
     "text": [
      "<class 'float'>\n"
     ]
    }
   ],
   "source": [
    "b=2.1\n",
    "print(type(b))"
   ]
  },
  {
   "cell_type": "code",
   "execution_count": 5,
   "id": "1fb59d69",
   "metadata": {},
   "outputs": [
    {
     "name": "stdout",
     "output_type": "stream",
     "text": [
      "<class 'bool'>\n"
     ]
    }
   ],
   "source": [
    "c=True\n",
    "print(type(c))"
   ]
  },
  {
   "cell_type": "code",
   "execution_count": 6,
   "id": "579685b2",
   "metadata": {},
   "outputs": [
    {
     "name": "stdout",
     "output_type": "stream",
     "text": [
      "<class 'str'>\n"
     ]
    }
   ],
   "source": [
    "d='3'\n",
    "print(type(d))\n"
   ]
  },
  {
   "cell_type": "code",
   "execution_count": 7,
   "id": "5043b8d6",
   "metadata": {},
   "outputs": [
    {
     "name": "stdout",
     "output_type": "stream",
     "text": [
      "<class 'list'>\n"
     ]
    }
   ],
   "source": [
    "e=['ben',1]\n",
    "print(type(e))"
   ]
  },
  {
   "cell_type": "code",
   "execution_count": 8,
   "id": "12e7ccc9",
   "metadata": {},
   "outputs": [
    {
     "name": "stdout",
     "output_type": "stream",
     "text": [
      "<class 'complex'>\n"
     ]
    }
   ],
   "source": [
    "f=2j\n",
    "print(type(f))"
   ]
  },
  {
   "cell_type": "code",
   "execution_count": 9,
   "id": "9b89bf37",
   "metadata": {},
   "outputs": [
    {
     "name": "stdout",
     "output_type": "stream",
     "text": [
      "<class 'tuple'>\n"
     ]
    }
   ],
   "source": [
    "g=('ben',56)\n",
    "print(type(g))"
   ]
  },
  {
   "cell_type": "code",
   "execution_count": 10,
   "id": "7a0d23bb",
   "metadata": {},
   "outputs": [
    {
     "name": "stdout",
     "output_type": "stream",
     "text": [
      "<class 'dict'>\n"
     ]
    }
   ],
   "source": [
    "h={'name':'ben'}\n",
    "print(type(h))"
   ]
  },
  {
   "cell_type": "code",
   "execution_count": 11,
   "id": "ece04dbf",
   "metadata": {},
   "outputs": [
    {
     "name": "stdout",
     "output_type": "stream",
     "text": [
      "<class 'set'>\n"
     ]
    }
   ],
   "source": [
    "i={1,2,3,'ben'}\n",
    "print(type(i))"
   ]
  },
  {
   "cell_type": "markdown",
   "id": "23e31766",
   "metadata": {},
   "source": [
    "## Datatypes in Phython"
   ]
  },
  {
   "cell_type": "markdown",
   "id": "ef51c142",
   "metadata": {},
   "source": [
    "## Strings"
   ]
  },
  {
   "cell_type": "code",
   "execution_count": null,
   "id": "74044e12",
   "metadata": {},
   "outputs": [],
   "source": [
    "A='3'\n",
    "A"
   ]
  },
  {
   "cell_type": "markdown",
   "id": "71e2ae55",
   "metadata": {},
   "source": [
    "## Strings slicing"
   ]
  },
  {
   "cell_type": "code",
   "execution_count": 13,
   "id": "61742b37",
   "metadata": {},
   "outputs": [
    {
     "data": {
      "text/plain": [
       "'Hello balqees how are you'"
      ]
     },
     "execution_count": 13,
     "metadata": {},
     "output_type": "execute_result"
    }
   ],
   "source": [
    "A=\"Hello balqees how are you\"\n",
    "A"
   ]
  },
  {
   "cell_type": "code",
   "execution_count": 14,
   "id": "fd011f7e",
   "metadata": {},
   "outputs": [
    {
     "data": {
      "text/plain": [
       "25"
      ]
     },
     "execution_count": 14,
     "metadata": {},
     "output_type": "execute_result"
    }
   ],
   "source": [
    "len(A)"
   ]
  },
  {
   "cell_type": "code",
   "execution_count": 15,
   "id": "ca8e7e42",
   "metadata": {},
   "outputs": [
    {
     "data": {
      "text/plain": [
       "'Hello'"
      ]
     },
     "execution_count": 15,
     "metadata": {},
     "output_type": "execute_result"
    }
   ],
   "source": [
    "A[0:5]"
   ]
  },
  {
   "cell_type": "code",
   "execution_count": 16,
   "id": "d0160b7e",
   "metadata": {},
   "outputs": [
    {
     "data": {
      "text/plain": [
       "'Hello balq'"
      ]
     },
     "execution_count": 16,
     "metadata": {},
     "output_type": "execute_result"
    }
   ],
   "source": [
    "A[0:10]"
   ]
  },
  {
   "cell_type": "code",
   "execution_count": 17,
   "id": "bf235187",
   "metadata": {},
   "outputs": [
    {
     "data": {
      "text/plain": [
       "'balqees'"
      ]
     },
     "execution_count": 17,
     "metadata": {},
     "output_type": "execute_result"
    }
   ],
   "source": [
    "A[6:13]"
   ]
  },
  {
   "cell_type": "code",
   "execution_count": 18,
   "id": "38d9b813",
   "metadata": {},
   "outputs": [
    {
     "data": {
      "text/plain": [
       "'balqees how are you'"
      ]
     },
     "execution_count": 18,
     "metadata": {},
     "output_type": "execute_result"
    }
   ],
   "source": [
    "A[6:]"
   ]
  },
  {
   "cell_type": "code",
   "execution_count": 19,
   "id": "3e08c941",
   "metadata": {},
   "outputs": [
    {
     "data": {
      "text/plain": [
       "'Hello'"
      ]
     },
     "execution_count": 19,
     "metadata": {},
     "output_type": "execute_result"
    }
   ],
   "source": [
    "A[:5]"
   ]
  },
  {
   "cell_type": "code",
   "execution_count": 20,
   "id": "19a5c432",
   "metadata": {},
   "outputs": [
    {
     "data": {
      "text/plain": [
       "'you'"
      ]
     },
     "execution_count": 20,
     "metadata": {},
     "output_type": "execute_result"
    }
   ],
   "source": [
    "A[-3:]"
   ]
  },
  {
   "cell_type": "code",
   "execution_count": 21,
   "id": "a63b13aa",
   "metadata": {},
   "outputs": [
    {
     "data": {
      "text/plain": [
       "'Hello balqees how are you'"
      ]
     },
     "execution_count": 21,
     "metadata": {},
     "output_type": "execute_result"
    }
   ],
   "source": [
    "A[0:25:1]"
   ]
  },
  {
   "cell_type": "code",
   "execution_count": 22,
   "id": "e761e308",
   "metadata": {},
   "outputs": [
    {
     "data": {
      "text/plain": [
       "'Hlobleshwaeyu'"
      ]
     },
     "execution_count": 22,
     "metadata": {},
     "output_type": "execute_result"
    }
   ],
   "source": [
    "A[0:25:2]"
   ]
  },
  {
   "cell_type": "code",
   "execution_count": null,
   "id": "4cdba727",
   "metadata": {},
   "outputs": [],
   "source": [
    "A[0:25:3]"
   ]
  },
  {
   "cell_type": "code",
   "execution_count": 23,
   "id": "066b571c",
   "metadata": {},
   "outputs": [
    {
     "data": {
      "text/plain": [
       "23"
      ]
     },
     "execution_count": 23,
     "metadata": {},
     "output_type": "execute_result"
    }
   ],
   "source": [
    "info=\"The communication texts\"\n",
    "len(info)"
   ]
  },
  {
   "cell_type": "code",
   "execution_count": 24,
   "id": "cbd474ec",
   "metadata": {},
   "outputs": [
    {
     "data": {
      "text/plain": [
       "17"
      ]
     },
     "execution_count": 24,
     "metadata": {},
     "output_type": "execute_result"
    }
   ],
   "source": [
    "Name= 'ttlxzabcterqetyfr'\n",
    "len(Name)"
   ]
  },
  {
   "cell_type": "code",
   "execution_count": 25,
   "id": "8a9a8009",
   "metadata": {},
   "outputs": [
    {
     "data": {
      "text/plain": [
       "'latqy'"
      ]
     },
     "execution_count": 25,
     "metadata": {},
     "output_type": "execute_result"
    }
   ],
   "source": [
    "Name[2:17:3]"
   ]
  },
  {
   "cell_type": "code",
   "execution_count": 1,
   "id": "e3ff12ac",
   "metadata": {},
   "outputs": [],
   "source": [
    "Name='Jawwad is a good boy'"
   ]
  },
  {
   "cell_type": "code",
   "execution_count": 2,
   "id": "8f40834e",
   "metadata": {},
   "outputs": [
    {
     "data": {
      "text/plain": [
       "'JAWWAD IS A GOOD BOY'"
      ]
     },
     "execution_count": 2,
     "metadata": {},
     "output_type": "execute_result"
    }
   ],
   "source": [
    "Name.upper()"
   ]
  },
  {
   "cell_type": "code",
   "execution_count": 3,
   "id": "4102822d",
   "metadata": {},
   "outputs": [
    {
     "data": {
      "text/plain": [
       "20"
      ]
     },
     "execution_count": 3,
     "metadata": {},
     "output_type": "execute_result"
    }
   ],
   "source": [
    "len(Name)"
   ]
  },
  {
   "cell_type": "code",
   "execution_count": 5,
   "id": "65cce4b5",
   "metadata": {},
   "outputs": [
    {
     "data": {
      "text/plain": [
       "'Jwa sago o'"
      ]
     },
     "execution_count": 5,
     "metadata": {},
     "output_type": "execute_result"
    }
   ],
   "source": [
    "Name[0:20:2]"
   ]
  },
  {
   "cell_type": "code",
   "execution_count": 6,
   "id": "c216795c",
   "metadata": {},
   "outputs": [
    {
     "data": {
      "text/plain": [
       "'Jw  gdo'"
      ]
     },
     "execution_count": 6,
     "metadata": {},
     "output_type": "execute_result"
    }
   ],
   "source": [
    "Name[0:20:3]"
   ]
  },
  {
   "cell_type": "code",
   "execution_count": 7,
   "id": "d77296f8",
   "metadata": {},
   "outputs": [
    {
     "data": {
      "text/plain": [
       "'Jaw'"
      ]
     },
     "execution_count": 7,
     "metadata": {},
     "output_type": "execute_result"
    }
   ],
   "source": [
    "Name[:3]"
   ]
  },
  {
   "cell_type": "code",
   "execution_count": 8,
   "id": "c6a0a3bd",
   "metadata": {},
   "outputs": [
    {
     "data": {
      "text/plain": [
       "'ad is a good boy'"
      ]
     },
     "execution_count": 8,
     "metadata": {},
     "output_type": "execute_result"
    }
   ],
   "source": [
    "Name[4:]"
   ]
  },
  {
   "cell_type": "code",
   "execution_count": 9,
   "id": "3f87984b",
   "metadata": {},
   "outputs": [
    {
     "data": {
      "text/plain": [
       "' is a good boy'"
      ]
     },
     "execution_count": 9,
     "metadata": {},
     "output_type": "execute_result"
    }
   ],
   "source": [
    "Name[6:]"
   ]
  },
  {
   "cell_type": "code",
   "execution_count": 10,
   "id": "e4ac2250",
   "metadata": {},
   "outputs": [
    {
     "data": {
      "text/plain": [
       "3"
      ]
     },
     "execution_count": 10,
     "metadata": {},
     "output_type": "execute_result"
    }
   ],
   "source": [
    "Name.count('o')"
   ]
  },
  {
   "cell_type": "code",
   "execution_count": 11,
   "id": "91bc450d",
   "metadata": {},
   "outputs": [
    {
     "data": {
      "text/plain": [
       "'Hawwad is a good boy'"
      ]
     },
     "execution_count": 11,
     "metadata": {},
     "output_type": "execute_result"
    }
   ],
   "source": [
    "Name.replace('J','H')"
   ]
  },
  {
   "cell_type": "code",
   "execution_count": 12,
   "id": "be589c8a",
   "metadata": {},
   "outputs": [
    {
     "data": {
      "text/plain": [
       "'Jawwad Is A Good Boy'"
      ]
     },
     "execution_count": 12,
     "metadata": {},
     "output_type": "execute_result"
    }
   ],
   "source": [
    "Name.title()"
   ]
  },
  {
   "cell_type": "code",
   "execution_count": 13,
   "id": "c0d3dc40",
   "metadata": {},
   "outputs": [
    {
     "ename": "TypeError",
     "evalue": "str.swapcase() takes no arguments (2 given)",
     "output_type": "error",
     "traceback": [
      "\u001b[1;31m---------------------------------------------------------------------------\u001b[0m",
      "\u001b[1;31mTypeError\u001b[0m                                 Traceback (most recent call last)",
      "Cell \u001b[1;32mIn[13], line 1\u001b[0m\n\u001b[1;32m----> 1\u001b[0m Name\u001b[38;5;241m.\u001b[39mswapcase(\u001b[38;5;124m'\u001b[39m\u001b[38;5;124mI\u001b[39m\u001b[38;5;124m'\u001b[39m,\u001b[38;5;124m'\u001b[39m\u001b[38;5;124mA\u001b[39m\u001b[38;5;124m'\u001b[39m)\n",
      "\u001b[1;31mTypeError\u001b[0m: str.swapcase() takes no arguments (2 given)"
     ]
    }
   ],
   "source": [
    "Name.swapcase('I','A')"
   ]
  },
  {
   "cell_type": "code",
   "execution_count": null,
   "id": "33ed4ea1",
   "metadata": {},
   "outputs": [],
   "source": []
  },
  {
   "cell_type": "markdown",
   "id": "14a50503",
   "metadata": {},
   "source": [
    "## Strings Methods"
   ]
  },
  {
   "cell_type": "code",
   "execution_count": null,
   "id": "a5a100d0",
   "metadata": {},
   "outputs": [],
   "source": [
    "#Upper\n",
    "#lower\n",
    "#title\n",
    "#replace\n",
    "#swapcase\n",
    "#count\n",
    "#len"
   ]
  },
  {
   "cell_type": "code",
   "execution_count": 26,
   "id": "c3b6ed93",
   "metadata": {},
   "outputs": [],
   "source": [
    "Remark = 'mark is a deligent boy'\n"
   ]
  },
  {
   "cell_type": "code",
   "execution_count": 27,
   "id": "85d34463",
   "metadata": {},
   "outputs": [
    {
     "data": {
      "text/plain": [
       "'MARK IS A DELIGENT BOY'"
      ]
     },
     "execution_count": 27,
     "metadata": {},
     "output_type": "execute_result"
    }
   ],
   "source": [
    "Remark.upper()"
   ]
  },
  {
   "cell_type": "code",
   "execution_count": 28,
   "id": "d0f7af71",
   "metadata": {},
   "outputs": [
    {
     "data": {
      "text/plain": [
       "'mark is a deligent boy'"
      ]
     },
     "execution_count": 28,
     "metadata": {},
     "output_type": "execute_result"
    }
   ],
   "source": [
    "Remark.lower()"
   ]
  },
  {
   "cell_type": "code",
   "execution_count": 29,
   "id": "6e93fa9a",
   "metadata": {},
   "outputs": [
    {
     "data": {
      "text/plain": [
       "'mark is a deligint boy in school'"
      ]
     },
     "execution_count": 29,
     "metadata": {},
     "output_type": "execute_result"
    }
   ],
   "source": [
    "'mark is a deligint boy in school'"
   ]
  },
  {
   "cell_type": "code",
   "execution_count": 30,
   "id": "b099e51c",
   "metadata": {},
   "outputs": [
    {
     "data": {
      "text/plain": [
       "2"
      ]
     },
     "execution_count": 30,
     "metadata": {},
     "output_type": "execute_result"
    }
   ],
   "source": [
    "Remark.count('e')"
   ]
  },
  {
   "cell_type": "code",
   "execution_count": 31,
   "id": "4096592b",
   "metadata": {},
   "outputs": [
    {
     "data": {
      "text/plain": [
       "2"
      ]
     },
     "execution_count": 31,
     "metadata": {},
     "output_type": "execute_result"
    }
   ],
   "source": [
    "Remark.count('i')"
   ]
  },
  {
   "cell_type": "code",
   "execution_count": 32,
   "id": "4fe138b9",
   "metadata": {},
   "outputs": [
    {
     "data": {
      "text/plain": [
       "'MARK'"
      ]
     },
     "execution_count": 32,
     "metadata": {},
     "output_type": "execute_result"
    }
   ],
   "source": [
    "info=Remark[:4].upper()\n",
    "info"
   ]
  },
  {
   "cell_type": "code",
   "execution_count": 33,
   "id": "2a7e87a0",
   "metadata": {},
   "outputs": [
    {
     "data": {
      "text/plain": [
       "'MARK'"
      ]
     },
     "execution_count": 33,
     "metadata": {},
     "output_type": "execute_result"
    }
   ],
   "source": [
    "info"
   ]
  },
  {
   "cell_type": "code",
   "execution_count": 34,
   "id": "39bc7d77",
   "metadata": {
    "scrolled": true
   },
   "outputs": [
    {
     "data": {
      "text/plain": [
       "'MARK'"
      ]
     },
     "execution_count": 34,
     "metadata": {},
     "output_type": "execute_result"
    }
   ],
   "source": [
    "info.upper()"
   ]
  },
  {
   "cell_type": "code",
   "execution_count": 35,
   "id": "756ef9b2",
   "metadata": {},
   "outputs": [
    {
     "data": {
      "text/plain": [
       "'Mark Is A Deligent Boy'"
      ]
     },
     "execution_count": 35,
     "metadata": {},
     "output_type": "execute_result"
    }
   ],
   "source": [
    "Remark.title()"
   ]
  },
  {
   "cell_type": "code",
   "execution_count": 36,
   "id": "edfab015",
   "metadata": {},
   "outputs": [
    {
     "data": {
      "text/plain": [
       "'mark is a djligjnt boy'"
      ]
     },
     "execution_count": 36,
     "metadata": {},
     "output_type": "execute_result"
    }
   ],
   "source": [
    "Remark.replace('e','j')"
   ]
  },
  {
   "cell_type": "markdown",
   "id": "d309086f",
   "metadata": {},
   "source": [
    "## List Slicing"
   ]
  },
  {
   "cell_type": "code",
   "execution_count": 37,
   "id": "c26dcdd8",
   "metadata": {},
   "outputs": [],
   "source": [
    "info=[1,2,3,4,'Hello',True,'John']"
   ]
  },
  {
   "cell_type": "code",
   "execution_count": 38,
   "id": "5a2b4d9d",
   "metadata": {},
   "outputs": [
    {
     "data": {
      "text/plain": [
       "list"
      ]
     },
     "execution_count": 38,
     "metadata": {},
     "output_type": "execute_result"
    }
   ],
   "source": [
    "type(info)"
   ]
  },
  {
   "cell_type": "code",
   "execution_count": 39,
   "id": "c37ce62e",
   "metadata": {},
   "outputs": [
    {
     "data": {
      "text/plain": [
       "1"
      ]
     },
     "execution_count": 39,
     "metadata": {},
     "output_type": "execute_result"
    }
   ],
   "source": [
    "info[0]"
   ]
  },
  {
   "cell_type": "code",
   "execution_count": 40,
   "id": "2bb52ad9",
   "metadata": {},
   "outputs": [
    {
     "data": {
      "text/plain": [
       "4"
      ]
     },
     "execution_count": 40,
     "metadata": {},
     "output_type": "execute_result"
    }
   ],
   "source": [
    "info[3]"
   ]
  },
  {
   "cell_type": "code",
   "execution_count": 41,
   "id": "861997a3",
   "metadata": {},
   "outputs": [
    {
     "data": {
      "text/plain": [
       "5"
      ]
     },
     "execution_count": 41,
     "metadata": {},
     "output_type": "execute_result"
    }
   ],
   "source": [
    "info[0]+info[3]"
   ]
  },
  {
   "cell_type": "code",
   "execution_count": 42,
   "id": "c5cadb7f",
   "metadata": {},
   "outputs": [
    {
     "data": {
      "text/plain": [
       "'Hello'"
      ]
     },
     "execution_count": 42,
     "metadata": {},
     "output_type": "execute_result"
    }
   ],
   "source": [
    "info[4]"
   ]
  },
  {
   "cell_type": "code",
   "execution_count": 43,
   "id": "d6b07451",
   "metadata": {},
   "outputs": [
    {
     "data": {
      "text/plain": [
       "'John'"
      ]
     },
     "execution_count": 43,
     "metadata": {},
     "output_type": "execute_result"
    }
   ],
   "source": [
    "info[6]"
   ]
  },
  {
   "cell_type": "code",
   "execution_count": 44,
   "id": "bb8d46e6",
   "metadata": {},
   "outputs": [
    {
     "name": "stdout",
     "output_type": "stream",
     "text": [
      "Hello to you Mr John\n"
     ]
    }
   ],
   "source": [
    "print(info[4],'to you Mr',info[6])"
   ]
  },
  {
   "cell_type": "code",
   "execution_count": 45,
   "id": "10002ba3",
   "metadata": {},
   "outputs": [],
   "source": [
    "name=['Balqees','Qudus','Lateef','Abu','Fatai','Tosin','tolu']"
   ]
  },
  {
   "cell_type": "code",
   "execution_count": 192,
   "id": "47eb7a99",
   "metadata": {},
   "outputs": [
    {
     "data": {
      "text/plain": [
       "'Balqees'"
      ]
     },
     "execution_count": 192,
     "metadata": {},
     "output_type": "execute_result"
    }
   ],
   "source": [
    "name[0]"
   ]
  },
  {
   "cell_type": "code",
   "execution_count": 193,
   "id": "0ce24301",
   "metadata": {},
   "outputs": [
    {
     "data": {
      "text/plain": [
       "'Qudus'"
      ]
     },
     "execution_count": 193,
     "metadata": {},
     "output_type": "execute_result"
    }
   ],
   "source": [
    "name[1]"
   ]
  },
  {
   "cell_type": "code",
   "execution_count": 194,
   "id": "3c57d513",
   "metadata": {},
   "outputs": [
    {
     "data": {
      "text/plain": [
       "'Lateef'"
      ]
     },
     "execution_count": 194,
     "metadata": {},
     "output_type": "execute_result"
    }
   ],
   "source": [
    "name[2]"
   ]
  },
  {
   "cell_type": "code",
   "execution_count": 195,
   "id": "a0b68410",
   "metadata": {},
   "outputs": [
    {
     "data": {
      "text/plain": [
       "['Balqees', 'Qudus', 'Lateef']"
      ]
     },
     "execution_count": 195,
     "metadata": {},
     "output_type": "execute_result"
    }
   ],
   "source": [
    "name[0:3]"
   ]
  },
  {
   "cell_type": "code",
   "execution_count": 196,
   "id": "973a3610",
   "metadata": {},
   "outputs": [
    {
     "data": {
      "text/plain": [
       "['Balqees', 'Qudus']"
      ]
     },
     "execution_count": 196,
     "metadata": {},
     "output_type": "execute_result"
    }
   ],
   "source": [
    "name[0:2]"
   ]
  },
  {
   "cell_type": "code",
   "execution_count": 197,
   "id": "9f6498ac",
   "metadata": {},
   "outputs": [
    {
     "data": {
      "text/plain": [
       "['Fatai', 'Tosin', 'tolu']"
      ]
     },
     "execution_count": 197,
     "metadata": {},
     "output_type": "execute_result"
    }
   ],
   "source": [
    "name[-3:]"
   ]
  },
  {
   "cell_type": "code",
   "execution_count": 198,
   "id": "24c7ac86",
   "metadata": {},
   "outputs": [
    {
     "data": {
      "text/plain": [
       "['Balqees', 'Qudus']"
      ]
     },
     "execution_count": 198,
     "metadata": {},
     "output_type": "execute_result"
    }
   ],
   "source": [
    "name[:2]"
   ]
  },
  {
   "cell_type": "code",
   "execution_count": 199,
   "id": "5f17d2b2",
   "metadata": {},
   "outputs": [
    {
     "data": {
      "text/plain": [
       "['Tosin', 'tolu']"
      ]
     },
     "execution_count": 199,
     "metadata": {},
     "output_type": "execute_result"
    }
   ],
   "source": [
    "name[-2:]"
   ]
  },
  {
   "cell_type": "code",
   "execution_count": 200,
   "id": "f84e2e17",
   "metadata": {},
   "outputs": [],
   "source": [
    "name.sort()"
   ]
  },
  {
   "cell_type": "code",
   "execution_count": 234,
   "id": "9e21877e",
   "metadata": {},
   "outputs": [
    {
     "data": {
      "text/plain": [
       "['Balqees', 'Qudus', 'Lateef', 'Abu', 'Fatai', 'Tosin', 'tolu']"
      ]
     },
     "execution_count": 234,
     "metadata": {},
     "output_type": "execute_result"
    }
   ],
   "source": [
    "name"
   ]
  },
  {
   "cell_type": "code",
   "execution_count": 202,
   "id": "c2165827",
   "metadata": {},
   "outputs": [
    {
     "data": {
      "text/plain": [
       "7"
      ]
     },
     "execution_count": 202,
     "metadata": {},
     "output_type": "execute_result"
    }
   ],
   "source": [
    "len(name)"
   ]
  },
  {
   "cell_type": "code",
   "execution_count": 203,
   "id": "d499a065",
   "metadata": {},
   "outputs": [
    {
     "data": {
      "text/plain": [
       "['Abu', 'Fatai', 'Qudus', 'tolu']"
      ]
     },
     "execution_count": 203,
     "metadata": {},
     "output_type": "execute_result"
    }
   ],
   "source": [
    "name[0:7:2]"
   ]
  },
  {
   "cell_type": "code",
   "execution_count": 204,
   "id": "0a6a1842",
   "metadata": {},
   "outputs": [
    {
     "data": {
      "text/plain": [
       "2"
      ]
     },
     "execution_count": 204,
     "metadata": {},
     "output_type": "execute_result"
    }
   ],
   "source": [
    "name[4].count('u')"
   ]
  },
  {
   "cell_type": "code",
   "execution_count": 205,
   "id": "d9b5a7a2",
   "metadata": {},
   "outputs": [
    {
     "data": {
      "text/plain": [
       "1"
      ]
     },
     "execution_count": 205,
     "metadata": {},
     "output_type": "execute_result"
    }
   ],
   "source": [
    "name[4].count('d')"
   ]
  },
  {
   "cell_type": "code",
   "execution_count": 206,
   "id": "1d0d78aa",
   "metadata": {},
   "outputs": [
    {
     "data": {
      "text/plain": [
       "2"
      ]
     },
     "execution_count": 206,
     "metadata": {},
     "output_type": "execute_result"
    }
   ],
   "source": [
    "name[1].count('e')"
   ]
  },
  {
   "cell_type": "code",
   "execution_count": 222,
   "id": "e992c397",
   "metadata": {},
   "outputs": [],
   "source": [
    "name.append('Femi')"
   ]
  },
  {
   "cell_type": "code",
   "execution_count": 223,
   "id": "2bc8cd08",
   "metadata": {},
   "outputs": [
    {
     "data": {
      "text/plain": [
       "['Abu',\n",
       " 'Balqees',\n",
       " 'Fatai',\n",
       " 'Femi',\n",
       " 'Lateef',\n",
       " 'Qudus',\n",
       " 'Rafiu',\n",
       " 'Tosin',\n",
       " 'tolu',\n",
       " 'Femi']"
      ]
     },
     "execution_count": 223,
     "metadata": {},
     "output_type": "execute_result"
    }
   ],
   "source": [
    "name"
   ]
  },
  {
   "cell_type": "code",
   "execution_count": 209,
   "id": "043c6081",
   "metadata": {},
   "outputs": [
    {
     "data": {
      "text/plain": [
       "['Abu', 'Balqees', 'Fatai', 'Lateef', 'Qudus', 'Tosin', 'tolu', 'Femi']"
      ]
     },
     "execution_count": 209,
     "metadata": {},
     "output_type": "execute_result"
    }
   ],
   "source": [
    "name"
   ]
  },
  {
   "cell_type": "code",
   "execution_count": 219,
   "id": "dec4c6fe",
   "metadata": {},
   "outputs": [],
   "source": [
    "name.sort()"
   ]
  },
  {
   "cell_type": "code",
   "execution_count": 220,
   "id": "2779131f",
   "metadata": {},
   "outputs": [
    {
     "data": {
      "text/plain": [
       "['Abu',\n",
       " 'Balqees',\n",
       " 'Fatai',\n",
       " 'Femi',\n",
       " 'Lateef',\n",
       " 'Qudus',\n",
       " 'Rafiu',\n",
       " 'Tosin',\n",
       " 'tolu']"
      ]
     },
     "execution_count": 220,
     "metadata": {},
     "output_type": "execute_result"
    }
   ],
   "source": [
    "name"
   ]
  },
  {
   "cell_type": "code",
   "execution_count": 235,
   "id": "c21993bc",
   "metadata": {},
   "outputs": [],
   "source": [
    "name.insert(3,'Rafiu')\n"
   ]
  },
  {
   "cell_type": "code",
   "execution_count": 236,
   "id": "ce21efd7",
   "metadata": {},
   "outputs": [
    {
     "data": {
      "text/plain": [
       "['Balqees', 'Qudus', 'Lateef', 'Rafiu', 'Abu', 'Fatai', 'Tosin', 'tolu']"
      ]
     },
     "execution_count": 236,
     "metadata": {},
     "output_type": "execute_result"
    }
   ],
   "source": [
    "name"
   ]
  },
  {
   "cell_type": "code",
   "execution_count": 237,
   "id": "105f163f",
   "metadata": {},
   "outputs": [
    {
     "data": {
      "text/plain": [
       "2"
      ]
     },
     "execution_count": 237,
     "metadata": {},
     "output_type": "execute_result"
    }
   ],
   "source": [
    "name.index('Lateef')"
   ]
  },
  {
   "cell_type": "markdown",
   "id": "92bfca37",
   "metadata": {},
   "source": [
    "## Tuples"
   ]
  },
  {
   "cell_type": "code",
   "execution_count": 238,
   "id": "2becfe71",
   "metadata": {},
   "outputs": [],
   "source": [
    "ref=(12,3.6,'fair')"
   ]
  },
  {
   "cell_type": "code",
   "execution_count": 239,
   "id": "675ceacb",
   "metadata": {},
   "outputs": [
    {
     "data": {
      "text/plain": [
       "tuple"
      ]
     },
     "execution_count": 239,
     "metadata": {},
     "output_type": "execute_result"
    }
   ],
   "source": [
    "type(ref)"
   ]
  },
  {
   "cell_type": "markdown",
   "id": "45beb902",
   "metadata": {},
   "source": [
    "## Dictionary"
   ]
  },
  {
   "cell_type": "code",
   "execution_count": 240,
   "id": "5770eb6f",
   "metadata": {},
   "outputs": [],
   "source": [
    "Boys={'Tolu':24,'Femi':30}"
   ]
  },
  {
   "cell_type": "code",
   "execution_count": 241,
   "id": "61c19fac",
   "metadata": {},
   "outputs": [
    {
     "data": {
      "text/plain": [
       "dict"
      ]
     },
     "execution_count": 241,
     "metadata": {},
     "output_type": "execute_result"
    }
   ],
   "source": [
    "type(Boys)"
   ]
  },
  {
   "cell_type": "code",
   "execution_count": 242,
   "id": "3a2c8f4a",
   "metadata": {},
   "outputs": [],
   "source": [
    "Boys['Tolu']=31"
   ]
  },
  {
   "cell_type": "code",
   "execution_count": 243,
   "id": "556b188d",
   "metadata": {},
   "outputs": [
    {
     "data": {
      "text/plain": [
       "{'Tolu': 31, 'Femi': 30}"
      ]
     },
     "execution_count": 243,
     "metadata": {},
     "output_type": "execute_result"
    }
   ],
   "source": [
    "Boys"
   ]
  },
  {
   "cell_type": "code",
   "execution_count": 245,
   "id": "12844e7a",
   "metadata": {},
   "outputs": [
    {
     "data": {
      "text/plain": [
       "{'Tolu': [22, 26, 29], 'Femi': 30}"
      ]
     },
     "execution_count": 245,
     "metadata": {},
     "output_type": "execute_result"
    }
   ],
   "source": [
    "Boys['Tolu']=[22,26,29]\n",
    "Boys"
   ]
  },
  {
   "cell_type": "code",
   "execution_count": 247,
   "id": "64c26bd1",
   "metadata": {},
   "outputs": [
    {
     "data": {
      "text/plain": [
       "{'Tolu': [22, 26, 29], 'Femi': ['Year', 1995]}"
      ]
     },
     "execution_count": 247,
     "metadata": {},
     "output_type": "execute_result"
    }
   ],
   "source": [
    "Boys['Femi']=['Year',1995]\n",
    "Boys"
   ]
  },
  {
   "cell_type": "code",
   "execution_count": 250,
   "id": "4ab8743a",
   "metadata": {},
   "outputs": [],
   "source": [
    "Boys.update({'Femi':33})"
   ]
  },
  {
   "cell_type": "code",
   "execution_count": 251,
   "id": "1691d324",
   "metadata": {},
   "outputs": [
    {
     "data": {
      "text/plain": [
       "{'Tolu': [22, 26, 29], 'Femi': 33}"
      ]
     },
     "execution_count": 251,
     "metadata": {},
     "output_type": "execute_result"
    }
   ],
   "source": [
    "Boys"
   ]
  },
  {
   "cell_type": "code",
   "execution_count": 273,
   "id": "c8dc2ebe",
   "metadata": {},
   "outputs": [],
   "source": [
    "Fruit= 'Plantain'"
   ]
  },
  {
   "cell_type": "code",
   "execution_count": 274,
   "id": "44cff2ed",
   "metadata": {},
   "outputs": [
    {
     "data": {
      "text/plain": [
       "'Plantain'"
      ]
     },
     "execution_count": 274,
     "metadata": {},
     "output_type": "execute_result"
    }
   ],
   "source": [
    "Fruits"
   ]
  },
  {
   "cell_type": "code",
   "execution_count": 275,
   "id": "5b46c99c",
   "metadata": {},
   "outputs": [
    {
     "data": {
      "text/plain": [
       "8"
      ]
     },
     "execution_count": 275,
     "metadata": {},
     "output_type": "execute_result"
    }
   ],
   "source": [
    "len(Fruit)"
   ]
  },
  {
   "cell_type": "code",
   "execution_count": 264,
   "id": "84e52cc2",
   "metadata": {},
   "outputs": [],
   "source": [
    "Date = ' Plantain'"
   ]
  },
  {
   "cell_type": "code",
   "execution_count": 261,
   "id": "e8e58852",
   "metadata": {},
   "outputs": [
    {
     "data": {
      "text/plain": [
       "'Pla'"
      ]
     },
     "execution_count": 261,
     "metadata": {},
     "output_type": "execute_result"
    }
   ],
   "source": [
    "Date[:3]"
   ]
  },
  {
   "cell_type": "code",
   "execution_count": 262,
   "id": "de348177",
   "metadata": {},
   "outputs": [
    {
     "data": {
      "text/plain": [
       "'Plantain'"
      ]
     },
     "execution_count": 262,
     "metadata": {},
     "output_type": "execute_result"
    }
   ],
   "source": [
    "Date[:]"
   ]
  },
  {
   "cell_type": "code",
   "execution_count": 276,
   "id": "d4ec8eab",
   "metadata": {},
   "outputs": [
    {
     "data": {
      "text/plain": [
       "8"
      ]
     },
     "execution_count": 276,
     "metadata": {},
     "output_type": "execute_result"
    }
   ],
   "source": [
    "len('Plantain')"
   ]
  },
  {
   "cell_type": "code",
   "execution_count": 2,
   "id": "b780b74a",
   "metadata": {},
   "outputs": [
    {
     "data": {
      "text/plain": [
       "'How was your day jawwad'"
      ]
     },
     "execution_count": 2,
     "metadata": {},
     "output_type": "execute_result"
    }
   ],
   "source": [
    "Q=\"How was your day jawwad\"\n",
    "Q"
   ]
  },
  {
   "cell_type": "code",
   "execution_count": 3,
   "id": "e1e8e44d",
   "metadata": {},
   "outputs": [
    {
     "data": {
      "text/plain": [
       "23"
      ]
     },
     "execution_count": 3,
     "metadata": {},
     "output_type": "execute_result"
    }
   ],
   "source": [
    "len(Q)"
   ]
  },
  {
   "cell_type": "code",
   "execution_count": 4,
   "id": "a593faee",
   "metadata": {},
   "outputs": [
    {
     "data": {
      "text/plain": [
       "'How'"
      ]
     },
     "execution_count": 4,
     "metadata": {},
     "output_type": "execute_result"
    }
   ],
   "source": [
    "Q[0:3]"
   ]
  },
  {
   "cell_type": "code",
   "execution_count": 6,
   "id": "76027e56",
   "metadata": {},
   "outputs": [
    {
     "data": {
      "text/plain": [
       "'H so yaa'"
      ]
     },
     "execution_count": 6,
     "metadata": {},
     "output_type": "execute_result"
    }
   ],
   "source": [
    "Q[0:23:3]"
   ]
  },
  {
   "cell_type": "code",
   "execution_count": 7,
   "id": "1b3f43c1",
   "metadata": {},
   "outputs": [
    {
     "data": {
      "text/plain": [
       "'Hwwsyu a awd'"
      ]
     },
     "execution_count": 7,
     "metadata": {},
     "output_type": "execute_result"
    }
   ],
   "source": [
    "Q[0:23:2]"
   ]
  },
  {
   "cell_type": "code",
   "execution_count": 8,
   "id": "54da7786",
   "metadata": {},
   "outputs": [
    {
     "ename": "NameError",
     "evalue": "name 'Print' is not defined",
     "output_type": "error",
     "traceback": [
      "\u001b[1;31m---------------------------------------------------------------------------\u001b[0m",
      "\u001b[1;31mNameError\u001b[0m                                 Traceback (most recent call last)",
      "Cell \u001b[1;32mIn[8], line 1\u001b[0m\n\u001b[1;32m----> 1\u001b[0m Print(Q)\n",
      "\u001b[1;31mNameError\u001b[0m: name 'Print' is not defined"
     ]
    }
   ],
   "source": [
    "Print(Q)"
   ]
  }
 ],
 "metadata": {
  "kernelspec": {
   "display_name": "Python 3 (ipykernel)",
   "language": "python",
   "name": "python3"
  },
  "language_info": {
   "codemirror_mode": {
    "name": "ipython",
    "version": 3
   },
   "file_extension": ".py",
   "mimetype": "text/x-python",
   "name": "python",
   "nbconvert_exporter": "python",
   "pygments_lexer": "ipython3",
   "version": "3.11.4"
  }
 },
 "nbformat": 4,
 "nbformat_minor": 5
}
